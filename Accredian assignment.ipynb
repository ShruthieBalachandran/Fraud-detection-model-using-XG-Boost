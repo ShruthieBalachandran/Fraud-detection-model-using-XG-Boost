{
 "cells": [
  {
   "cell_type": "code",
   "execution_count": 19,
   "id": "2feff610-4026-4c32-91ed-db6f28fa1aa7",
   "metadata": {},
   "outputs": [],
   "source": [
    "#Importing the required libraries\n",
    "import pandas as pd\n",
    "import numpy as np\n",
    "from sklearn.model_selection import train_test_split, RandomizedSearchCV\n",
    "from sklearn.decomposition import PCA\n",
    "from sklearn.preprocessing import StandardScaler\n",
    "from sklearn.metrics import classification_report, confusion_matrix, roc_auc_score\n",
    "import xgboost as xgb\n",
    "import matplotlib.pyplot as plt\n",
    "import seaborn as sns"
   ]
  },
  {
   "cell_type": "code",
   "execution_count": 20,
   "id": "713e4d6a-6c82-4ce4-a4d4-7c881c10c9f9",
   "metadata": {},
   "outputs": [],
   "source": [
    "# Loading the dataset\n",
    "df = pd.read_csv(r\"C:\\Users\\sabha\\Downloads\\Fraud.csv\")"
   ]
  },
  {
   "cell_type": "code",
   "execution_count": 21,
   "id": "a5c1837c-8fb1-425e-b562-9e42fea21728",
   "metadata": {},
   "outputs": [
    {
     "name": "stdout",
     "output_type": "stream",
     "text": [
      "step              0\n",
      "type              0\n",
      "amount            0\n",
      "nameOrig          0\n",
      "oldbalanceOrg     0\n",
      "newbalanceOrig    0\n",
      "nameDest          0\n",
      "oldbalanceDest    0\n",
      "newbalanceDest    0\n",
      "isFraud           0\n",
      "isFlaggedFraud    0\n",
      "dtype: int64\n"
     ]
    }
   ],
   "source": [
    "# 1.Cleaning the Dataset:\n",
    "\n",
    "# Checking for missing values\n",
    "print(df.isnull().sum())\n",
    "\n",
    "# Imputing the missing values for `oldbalanceDest` and `newbalanceDest`\n",
    "df['oldbalanceDest'].fillna(0, inplace=True)\n",
    "df['newbalanceDest'].fillna(0, inplace=True)\n",
    "\n",
    "# Handling outliers in 'amount', 'oldbalanceOrg', and 'newbalanceOrig'\n",
    "from scipy import stats\n",
    "\n",
    "# Using z-score and Removing rows where z-score > 3:\n",
    "z_scores = np.abs(stats.zscore(df[['amount', 'oldbalanceOrg', 'newbalanceOrig']]))\n",
    "df = df[(z_scores < 3).all(axis=1)]\n",
    "\n",
    "# Feature Engineering: Differences between balances\n",
    "df['balanceOrigDiff'] = df['oldbalanceOrg'] - df['newbalanceOrig']\n",
    "df['balanceDestDiff'] = df['oldbalanceDest'] - df['newbalanceDest']\n",
    "\n",
    "# Droping unnecessary columns\n",
    "df_cleaned = df.drop(['nameOrig', 'nameDest'], axis=1)\n",
    "\n",
    "# Using One-Hot Encoding for the 'type' column (categorical)\n",
    "df_cleaned = pd.get_dummies(df_cleaned, columns=['type'], drop_first=True)"
   ]
  },
  {
   "cell_type": "code",
   "execution_count": 22,
   "id": "e3bc0376-a5b6-45f3-a174-1957193e0145",
   "metadata": {},
   "outputs": [],
   "source": [
    "# 2. Splitting the Dataset\n",
    "X = df_cleaned.drop(['isFraud'], axis=1)\n",
    "y = df_cleaned['isFraud']\n",
    "\n",
    "# Spliting the data into training set and test set\n",
    "X_train, X_test, y_train, y_test = train_test_split(X, y, test_size=0.3, random_state=42, stratify=y)"
   ]
  },
  {
   "cell_type": "code",
   "execution_count": 23,
   "id": "e4ecaece-3ae4-4479-bfcc-6cb2b270fbea",
   "metadata": {},
   "outputs": [],
   "source": [
    "# 3. Data Standardization\n",
    "scaler = StandardScaler()\n",
    "\n",
    "# Standardizing the training set and test set\n",
    "X_train_scaled = scaler.fit_transform(X_train)\n",
    "X_test_scaled = scaler.transform(X_test)"
   ]
  },
  {
   "cell_type": "code",
   "execution_count": 24,
   "id": "cbaf0d54-ea9f-44e5-ab5d-821bebc6c29a",
   "metadata": {},
   "outputs": [],
   "source": [
    "# 4. Applying PCA(Principal Component Analysis) for Dimensionality Reduction\n",
    "# Retaining 95% of the variance\n",
    "pca = PCA(n_components=0.95)  \n",
    "X_train_pca = pca.fit_transform(X_train_scaled)\n",
    "X_test_pca = pca.transform(X_test_scaled)"
   ]
  },
  {
   "cell_type": "code",
   "execution_count": 25,
   "id": "05e83260-88db-48ff-ad14-933cd20051d3",
   "metadata": {},
   "outputs": [],
   "source": [
    "# 5. Hyperparameter Tuning with RandomizedSearchCV for XGBoost\n",
    "# Defining a smaller hyperparameter space for XGBoost\n",
    "param_dist = {'n_estimators': [50, 100],'max_depth': [3, 5],'learning_rate': [0.05, 0.1],'subsample': [0.8, 1.0],\n",
    "              'colsample_bytree': [0.8, 1.0],}"
   ]
  },
  {
   "cell_type": "code",
   "execution_count": 26,
   "id": "755a9521-f060-403c-9654-82155677be86",
   "metadata": {},
   "outputs": [
    {
     "data": {
      "text/html": [
       "<style>#sk-container-id-2 {color: black;background-color: white;}#sk-container-id-2 pre{padding: 0;}#sk-container-id-2 div.sk-toggleable {background-color: white;}#sk-container-id-2 label.sk-toggleable__label {cursor: pointer;display: block;width: 100%;margin-bottom: 0;padding: 0.3em;box-sizing: border-box;text-align: center;}#sk-container-id-2 label.sk-toggleable__label-arrow:before {content: \"▸\";float: left;margin-right: 0.25em;color: #696969;}#sk-container-id-2 label.sk-toggleable__label-arrow:hover:before {color: black;}#sk-container-id-2 div.sk-estimator:hover label.sk-toggleable__label-arrow:before {color: black;}#sk-container-id-2 div.sk-toggleable__content {max-height: 0;max-width: 0;overflow: hidden;text-align: left;background-color: #f0f8ff;}#sk-container-id-2 div.sk-toggleable__content pre {margin: 0.2em;color: black;border-radius: 0.25em;background-color: #f0f8ff;}#sk-container-id-2 input.sk-toggleable__control:checked~div.sk-toggleable__content {max-height: 200px;max-width: 100%;overflow: auto;}#sk-container-id-2 input.sk-toggleable__control:checked~label.sk-toggleable__label-arrow:before {content: \"▾\";}#sk-container-id-2 div.sk-estimator input.sk-toggleable__control:checked~label.sk-toggleable__label {background-color: #d4ebff;}#sk-container-id-2 div.sk-label input.sk-toggleable__control:checked~label.sk-toggleable__label {background-color: #d4ebff;}#sk-container-id-2 input.sk-hidden--visually {border: 0;clip: rect(1px 1px 1px 1px);clip: rect(1px, 1px, 1px, 1px);height: 1px;margin: -1px;overflow: hidden;padding: 0;position: absolute;width: 1px;}#sk-container-id-2 div.sk-estimator {font-family: monospace;background-color: #f0f8ff;border: 1px dotted black;border-radius: 0.25em;box-sizing: border-box;margin-bottom: 0.5em;}#sk-container-id-2 div.sk-estimator:hover {background-color: #d4ebff;}#sk-container-id-2 div.sk-parallel-item::after {content: \"\";width: 100%;border-bottom: 1px solid gray;flex-grow: 1;}#sk-container-id-2 div.sk-label:hover label.sk-toggleable__label {background-color: #d4ebff;}#sk-container-id-2 div.sk-serial::before {content: \"\";position: absolute;border-left: 1px solid gray;box-sizing: border-box;top: 0;bottom: 0;left: 50%;z-index: 0;}#sk-container-id-2 div.sk-serial {display: flex;flex-direction: column;align-items: center;background-color: white;padding-right: 0.2em;padding-left: 0.2em;position: relative;}#sk-container-id-2 div.sk-item {position: relative;z-index: 1;}#sk-container-id-2 div.sk-parallel {display: flex;align-items: stretch;justify-content: center;background-color: white;position: relative;}#sk-container-id-2 div.sk-item::before, #sk-container-id-2 div.sk-parallel-item::before {content: \"\";position: absolute;border-left: 1px solid gray;box-sizing: border-box;top: 0;bottom: 0;left: 50%;z-index: -1;}#sk-container-id-2 div.sk-parallel-item {display: flex;flex-direction: column;z-index: 1;position: relative;background-color: white;}#sk-container-id-2 div.sk-parallel-item:first-child::after {align-self: flex-end;width: 50%;}#sk-container-id-2 div.sk-parallel-item:last-child::after {align-self: flex-start;width: 50%;}#sk-container-id-2 div.sk-parallel-item:only-child::after {width: 0;}#sk-container-id-2 div.sk-dashed-wrapped {border: 1px dashed gray;margin: 0 0.4em 0.5em 0.4em;box-sizing: border-box;padding-bottom: 0.4em;background-color: white;}#sk-container-id-2 div.sk-label label {font-family: monospace;font-weight: bold;display: inline-block;line-height: 1.2em;}#sk-container-id-2 div.sk-label-container {text-align: center;}#sk-container-id-2 div.sk-container {/* jupyter's `normalize.less` sets `[hidden] { display: none; }` but bootstrap.min.css set `[hidden] { display: none !important; }` so we also need the `!important` here to be able to override the default hidden behavior on the sphinx rendered scikit-learn.org. See: https://github.com/scikit-learn/scikit-learn/issues/21755 */display: inline-block !important;position: relative;}#sk-container-id-2 div.sk-text-repr-fallback {display: none;}</style><div id=\"sk-container-id-2\" class=\"sk-top-container\"><div class=\"sk-text-repr-fallback\"><pre>RandomizedSearchCV(cv=2,\n",
       "                   estimator=XGBClassifier(base_score=None, booster=None,\n",
       "                                           callbacks=None,\n",
       "                                           colsample_bylevel=None,\n",
       "                                           colsample_bynode=None,\n",
       "                                           colsample_bytree=None, device=None,\n",
       "                                           early_stopping_rounds=None,\n",
       "                                           enable_categorical=False,\n",
       "                                           eval_metric=&#x27;logloss&#x27;,\n",
       "                                           feature_types=None, gamma=None,\n",
       "                                           grow_policy=None,\n",
       "                                           importance_type=None,\n",
       "                                           interaction_constraints=None,\n",
       "                                           learning...\n",
       "                                           max_leaves=None,\n",
       "                                           min_child_weight=None, missing=nan,\n",
       "                                           monotone_constraints=None,\n",
       "                                           multi_strategy=None,\n",
       "                                           n_estimators=None, n_jobs=None,\n",
       "                                           num_parallel_tree=None,\n",
       "                                           random_state=42, ...),\n",
       "                   n_jobs=-1,\n",
       "                   param_distributions={&#x27;colsample_bytree&#x27;: [0.8, 1.0],\n",
       "                                        &#x27;learning_rate&#x27;: [0.05, 0.1],\n",
       "                                        &#x27;max_depth&#x27;: [3, 5],\n",
       "                                        &#x27;n_estimators&#x27;: [50, 100],\n",
       "                                        &#x27;subsample&#x27;: [0.8, 1.0]},\n",
       "                   random_state=42, scoring=&#x27;roc_auc&#x27;)</pre><b>In a Jupyter environment, please rerun this cell to show the HTML representation or trust the notebook. <br />On GitHub, the HTML representation is unable to render, please try loading this page with nbviewer.org.</b></div><div class=\"sk-container\" hidden><div class=\"sk-item sk-dashed-wrapped\"><div class=\"sk-label-container\"><div class=\"sk-label sk-toggleable\"><input class=\"sk-toggleable__control sk-hidden--visually\" id=\"sk-estimator-id-4\" type=\"checkbox\" ><label for=\"sk-estimator-id-4\" class=\"sk-toggleable__label sk-toggleable__label-arrow\">RandomizedSearchCV</label><div class=\"sk-toggleable__content\"><pre>RandomizedSearchCV(cv=2,\n",
       "                   estimator=XGBClassifier(base_score=None, booster=None,\n",
       "                                           callbacks=None,\n",
       "                                           colsample_bylevel=None,\n",
       "                                           colsample_bynode=None,\n",
       "                                           colsample_bytree=None, device=None,\n",
       "                                           early_stopping_rounds=None,\n",
       "                                           enable_categorical=False,\n",
       "                                           eval_metric=&#x27;logloss&#x27;,\n",
       "                                           feature_types=None, gamma=None,\n",
       "                                           grow_policy=None,\n",
       "                                           importance_type=None,\n",
       "                                           interaction_constraints=None,\n",
       "                                           learning...\n",
       "                                           max_leaves=None,\n",
       "                                           min_child_weight=None, missing=nan,\n",
       "                                           monotone_constraints=None,\n",
       "                                           multi_strategy=None,\n",
       "                                           n_estimators=None, n_jobs=None,\n",
       "                                           num_parallel_tree=None,\n",
       "                                           random_state=42, ...),\n",
       "                   n_jobs=-1,\n",
       "                   param_distributions={&#x27;colsample_bytree&#x27;: [0.8, 1.0],\n",
       "                                        &#x27;learning_rate&#x27;: [0.05, 0.1],\n",
       "                                        &#x27;max_depth&#x27;: [3, 5],\n",
       "                                        &#x27;n_estimators&#x27;: [50, 100],\n",
       "                                        &#x27;subsample&#x27;: [0.8, 1.0]},\n",
       "                   random_state=42, scoring=&#x27;roc_auc&#x27;)</pre></div></div></div><div class=\"sk-parallel\"><div class=\"sk-parallel-item\"><div class=\"sk-item\"><div class=\"sk-label-container\"><div class=\"sk-label sk-toggleable\"><input class=\"sk-toggleable__control sk-hidden--visually\" id=\"sk-estimator-id-5\" type=\"checkbox\" ><label for=\"sk-estimator-id-5\" class=\"sk-toggleable__label sk-toggleable__label-arrow\">estimator: XGBClassifier</label><div class=\"sk-toggleable__content\"><pre>XGBClassifier(base_score=None, booster=None, callbacks=None,\n",
       "              colsample_bylevel=None, colsample_bynode=None,\n",
       "              colsample_bytree=None, device=None, early_stopping_rounds=None,\n",
       "              enable_categorical=False, eval_metric=&#x27;logloss&#x27;,\n",
       "              feature_types=None, gamma=None, grow_policy=None,\n",
       "              importance_type=None, interaction_constraints=None,\n",
       "              learning_rate=None, max_bin=None, max_cat_threshold=None,\n",
       "              max_cat_to_onehot=None, max_delta_step=None, max_depth=None,\n",
       "              max_leaves=None, min_child_weight=None, missing=nan,\n",
       "              monotone_constraints=None, multi_strategy=None, n_estimators=None,\n",
       "              n_jobs=None, num_parallel_tree=None, random_state=42, ...)</pre></div></div></div><div class=\"sk-serial\"><div class=\"sk-item\"><div class=\"sk-estimator sk-toggleable\"><input class=\"sk-toggleable__control sk-hidden--visually\" id=\"sk-estimator-id-6\" type=\"checkbox\" ><label for=\"sk-estimator-id-6\" class=\"sk-toggleable__label sk-toggleable__label-arrow\">XGBClassifier</label><div class=\"sk-toggleable__content\"><pre>XGBClassifier(base_score=None, booster=None, callbacks=None,\n",
       "              colsample_bylevel=None, colsample_bynode=None,\n",
       "              colsample_bytree=None, device=None, early_stopping_rounds=None,\n",
       "              enable_categorical=False, eval_metric=&#x27;logloss&#x27;,\n",
       "              feature_types=None, gamma=None, grow_policy=None,\n",
       "              importance_type=None, interaction_constraints=None,\n",
       "              learning_rate=None, max_bin=None, max_cat_threshold=None,\n",
       "              max_cat_to_onehot=None, max_delta_step=None, max_depth=None,\n",
       "              max_leaves=None, min_child_weight=None, missing=nan,\n",
       "              monotone_constraints=None, multi_strategy=None, n_estimators=None,\n",
       "              n_jobs=None, num_parallel_tree=None, random_state=42, ...)</pre></div></div></div></div></div></div></div></div></div></div>"
      ],
      "text/plain": [
       "RandomizedSearchCV(cv=2,\n",
       "                   estimator=XGBClassifier(base_score=None, booster=None,\n",
       "                                           callbacks=None,\n",
       "                                           colsample_bylevel=None,\n",
       "                                           colsample_bynode=None,\n",
       "                                           colsample_bytree=None, device=None,\n",
       "                                           early_stopping_rounds=None,\n",
       "                                           enable_categorical=False,\n",
       "                                           eval_metric='logloss',\n",
       "                                           feature_types=None, gamma=None,\n",
       "                                           grow_policy=None,\n",
       "                                           importance_type=None,\n",
       "                                           interaction_constraints=None,\n",
       "                                           learning...\n",
       "                                           max_leaves=None,\n",
       "                                           min_child_weight=None, missing=nan,\n",
       "                                           monotone_constraints=None,\n",
       "                                           multi_strategy=None,\n",
       "                                           n_estimators=None, n_jobs=None,\n",
       "                                           num_parallel_tree=None,\n",
       "                                           random_state=42, ...),\n",
       "                   n_jobs=-1,\n",
       "                   param_distributions={'colsample_bytree': [0.8, 1.0],\n",
       "                                        'learning_rate': [0.05, 0.1],\n",
       "                                        'max_depth': [3, 5],\n",
       "                                        'n_estimators': [50, 100],\n",
       "                                        'subsample': [0.8, 1.0]},\n",
       "                   random_state=42, scoring='roc_auc')"
      ]
     },
     "execution_count": 26,
     "metadata": {},
     "output_type": "execute_result"
    }
   ],
   "source": [
    "# 6. Initializing XGBoost model\n",
    "xgb_model = xgb.XGBClassifier(eval_metric='logloss', random_state=42)\n",
    "\n",
    "# Setting up RandomizedSearchCV\n",
    "random_search = RandomizedSearchCV(estimator=xgb_model, param_distributions=param_dist, n_iter=10, scoring='roc_auc', \n",
    "                                   cv=2, random_state=42, n_jobs=-1)\n",
    "\n",
    "# Training the XGBoost model with RandomizedSearchCV\n",
    "random_search.fit(X_train_pca, y_train)"
   ]
  },
  {
   "cell_type": "code",
   "execution_count": 27,
   "id": "4fa68baf-3e2e-406a-bf27-745f2107c9d4",
   "metadata": {},
   "outputs": [
    {
     "name": "stdout",
     "output_type": "stream",
     "text": [
      "Best Parameters from RandomizedSearchCV:\n",
      " {'subsample': 0.8, 'n_estimators': 100, 'max_depth': 5, 'learning_rate': 0.1, 'colsample_bytree': 1.0}\n",
      "Best ROC AUC Score during CV: 0.9961301786375607\n"
     ]
    }
   ],
   "source": [
    "# Model performance\n",
    "print(\"Best Parameters from RandomizedSearchCV:\\n\", random_search.best_params_)\n",
    "print(\"Best ROC AUC Score during CV:\", random_search.best_score_)"
   ]
  },
  {
   "cell_type": "code",
   "execution_count": 28,
   "id": "85d56740-bbac-4da7-bd34-b666b9da2b8c",
   "metadata": {},
   "outputs": [
    {
     "name": "stdout",
     "output_type": "stream",
     "text": [
      "Tuned XGBoost Model - Classification Report:\n",
      "               precision    recall  f1-score   support\n",
      "\n",
      "           0       1.00      1.00      1.00   1846299\n",
      "           1       0.29      0.63      0.40      1958\n",
      "\n",
      "    accuracy                           1.00   1848257\n",
      "   macro avg       0.64      0.81      0.70   1848257\n",
      "weighted avg       1.00      1.00      1.00   1848257\n",
      "\n",
      "Confusion Matrix:\n",
      " [[1843258    3041]\n",
      " [    725    1233]]\n",
      "ROC AUC Score on Test Set: 0.8140385647720668\n"
     ]
    }
   ],
   "source": [
    "# 7. Model Evaluation on the Test Set\n",
    "y_pred_xgb_tuned = random_search.best_estimator_.predict(X_test_pca)\n",
    "\n",
    "# Classification report\n",
    "print(\"Tuned XGBoost Model - Classification Report:\\n\", classification_report(y_test, y_pred_xgb_tuned))\n",
    "\n",
    "# Confusion Matrix\n",
    "print(\"Confusion Matrix:\\n\", confusion_matrix(y_test, y_pred_xgb_tuned))\n",
    "\n",
    "# ROC AUC Score\n",
    "roc_auc = roc_auc_score(y_test, y_pred_xgb_tuned)\n",
    "print(\"ROC AUC Score on Test Set:\", roc_auc)"
   ]
  },
  {
   "cell_type": "code",
   "execution_count": 29,
   "id": "a4a05311-ba1b-4ed7-829e-1f0b066fb9ed",
   "metadata": {},
   "outputs": [
    {
     "name": "stdout",
     "output_type": "stream",
     "text": [
      "Feature importances: [0.06492452 0.26168275 0.03770053 0.03494101 0.03774565 0.05400763\n",
      " 0.1320464  0.09046102 0.15732607 0.04100287 0.08816157]\n"
     ]
    },
    {
     "data": {
      "image/png": "[encoded data removed]",
      "text/plain": [
       "<Figure size 1000x600 with 1 Axes>"
      ]
     },
     "metadata": {},
     "output_type": "display_data"
    }
   ],
   "source": [
    "# 8. Feature importance analysis\n",
    "importance = random_search.best_estimator_.feature_importances_\n",
    "print(\"Feature importances:\", importance)\n",
    "\n",
    "features = X.columns\n",
    "feature_importance = pd.DataFrame({'Feature': features[:len(importance)], 'Importance': importance})\n",
    "feature_importance = feature_importance.sort_values(by='Importance', ascending=False)\n",
    "\n",
    "plt.figure(figsize=(10, 6))\n",
    "sns.barplot(x='Importance', y='Feature', data=feature_importance)\n",
    "plt.title(\"Feature Importance from XGBoost Model\")\n",
    "plt.xlabel(\"Importance Score\")\n",
    "plt.show()"
   ]
  },
  {
   "cell_type": "code",
   "execution_count": 30,
   "id": "39bf2bb7-2169-421f-9a1d-a2b43cdd72d3",
   "metadata": {},
   "outputs": [
    {
     "data": {
      "text/plain": [
       "\"\\n1. Data Cleaning Including Missing Values, Outliers, and Multi-Collinearity.\\nAns:\\nMissing Values: Missing values in the oldbalanceDest and newbalanceDest columns are handled by imputing them with zero.\\nOutliers: Outliers are detected and removed using the Z-score method for the amount, oldbalanceOrg, and newbalanceOrig columns. \\nRows with Z-scores greater than 3 are removed.\\nFeature Engineering: New features, balanceOrigDiff and balanceDestDiff, are created to capture differences between original and new balances.\\nMulti-Collinearity: PCA is used to handle multi-collinearity by transforming the features into orthogonal components, retaining 95% of the variance.\\n\\n2. Describe Your Fraud Detection Model in Elaboration.\\nAns:\\nData Preparation: The dataset is cleaned and preprocessed, including handling missing values, outliers, and encoding categorical variables.\\nFeature Engineering: New features are engineered to potentially enhance the model’s performance.\\nDimensionality Reduction: PCA (Principal Component Analysis) is applied to reduce the number of features while retaining most of the variance.\\nModel Selection: XGBoost is used for its efficiency and effectiveness in handling large datasets and binary classification tasks.\\nHyperparameter Tuning: RandomizedSearchCV is used to find the optimal hyperparameters for XGBoost, improving model performance.\\n\\n3. How Did You Select Variables to Be Included in the Model?\\nAns:\\nDropped Columns: Unnecessary columns (nameOrig and nameDest) are removed as they do not contribute to the predictive power of the model.\\nFeature Engineering: Additional features are created to capture important differences in balances.\\nOne-Hot Encoding: The categorical feature 'type' is one-hot encoded to make it suitable for the model.\\nPCA: Dimensionality reduction through PCA helps in retaining relevant features while reducing multicollinearity and computational complexity.\\n\\n4.Demonstrate the Performance of the Model by Using the Best Set of Tools.\\nAns:\\nClassification Report: Provides detailed metrics including precision, recall, F1-score, and support for each class.\\nConfusion Matrix: Shows the count of true positives, true negatives, false positives, and false negatives.\\nROC AUC Score: Measures the model’s ability to distinguish between classes.\\n\\n5. What Are the Key Factors That Predict Fraudulent Customers?\\nAns:\\nFeature Importance Scores: Obtained from the trained XGBoost model, these scores indicate which features are most influential in predicting fraud.\\nVisualization: A bar plot of feature importance helps in understanding the relative significance of each feature.\\n\\n6. Do These Factors Make Sense? If Yes, How? If Not, How Not?\\nAns:\\nRelevance: Features with high importance scores is examined for their relevance to fraud detection. \\nFor example, features capturing large discrepancies in balances might be indicative of fraudulent behavior.\\nValidation: The relevance of features is aligning with domain knowledge and known patterns of fraud. \\nIf some features seem counterintuitive, further investigation and domain expertise might be required.\\n\\n7. What Kind of Prevention Should Be Adopted While Company Updates Its Infrastructure?\\nAns:\\nFraud Detection Systems: Implement real-time fraud detection systems using models like XGBoost to monitor transactions continuously.\\nData Security: Strengthen data security measures to prevent unauthorized access and tampering.\\nModel Updates: Regularly update the fraud detection model with new data to keep it relevant to emerging fraud patterns.\\n\\n8. Assuming These Actions Have Been Implemented, How Would You Determine if They Work?\\nAns:\\nMonitoring: Track the performance of the fraud detection system using metrics such as detection rates, false positives, and false negatives.\\nA/B Testing: Compare the performance of the new system with previous systems using A/B testing to assess improvements.\\nFeedback Loop: Continuously gather feedback and refine the system based on real-world performance and emerging fraud trends.\\n\\n\""
      ]
     },
     "execution_count": 30,
     "metadata": {},
     "output_type": "execute_result"
    }
   ],
   "source": [
    "'''\n",
    "1. Data Cleaning Including Missing Values, Outliers, and Multi-Collinearity.\n",
    "Ans:\n",
    "Missing Values: Missing values in the oldbalanceDest and newbalanceDest columns are handled by imputing them with zero.\n",
    "Outliers: Outliers are detected and removed using the Z-score method for the amount, oldbalanceOrg, and newbalanceOrig columns. \n",
    "Rows with Z-scores greater than 3 are removed.\n",
    "Feature Engineering: New features, balanceOrigDiff and balanceDestDiff, are created to capture differences between original and new balances.\n",
    "Multi-Collinearity: PCA is used to handle multi-collinearity by transforming the features into orthogonal components, retaining 95% of the variance.\n",
    "\n",
    "2. Describe Your Fraud Detection Model in Elaboration.\n",
    "Ans:\n",
    "Data Preparation: The dataset is cleaned and preprocessed, including handling missing values, outliers, and encoding categorical variables.\n",
    "Feature Engineering: New features are engineered to potentially enhance the model’s performance.\n",
    "Dimensionality Reduction: PCA (Principal Component Analysis) is applied to reduce the number of features while retaining most of the variance.\n",
    "Model Selection: XGBoost is used for its efficiency and effectiveness in handling large datasets and binary classification tasks.\n",
    "Hyperparameter Tuning: RandomizedSearchCV is used to find the optimal hyperparameters for XGBoost, improving model performance.\n",
    "\n",
    "3. How Did You Select Variables to Be Included in the Model?\n",
    "Ans:\n",
    "Dropped Columns: Unnecessary columns (nameOrig and nameDest) are removed as they do not contribute to the predictive power of the model.\n",
    "Feature Engineering: Additional features are created to capture important differences in balances.\n",
    "One-Hot Encoding: The categorical feature 'type' is one-hot encoded to make it suitable for the model.\n",
    "PCA: Dimensionality reduction through PCA helps in retaining relevant features while reducing multicollinearity and computational complexity.\n",
    "\n",
    "4.Demonstrate the Performance of the Model by Using the Best Set of Tools.\n",
    "Ans:\n",
    "Classification Report: Provides detailed metrics including precision, recall, F1-score, and support for each class.\n",
    "Confusion Matrix: Shows the count of true positives, true negatives, false positives, and false negatives.\n",
    "ROC AUC Score: Measures the model’s ability to distinguish between classes.\n",
    "\n",
    "5. What Are the Key Factors That Predict Fraudulent Customers?\n",
    "Ans:\n",
    "Feature Importance Scores: Obtained from the trained XGBoost model, these scores indicate which features are most influential in predicting fraud.\n",
    "Visualization: A bar plot of feature importance helps in understanding the relative significance of each feature.\n",
    "\n",
    "6. Do These Factors Make Sense? If Yes, How? If Not, How Not?\n",
    "Ans:\n",
    "Relevance: Features with high importance scores is examined for their relevance to fraud detection. \n",
    "For example, features capturing large discrepancies in balances might be indicative of fraudulent behavior.\n",
    "Validation: The relevance of features is aligning with domain knowledge and known patterns of fraud. \n",
    "If some features seem counterintuitive, further investigation and domain expertise might be required.\n",
    "\n",
    "7. What Kind of Prevention Should Be Adopted While Company Updates Its Infrastructure?\n",
    "Ans:\n",
    "Fraud Detection Systems: Implement real-time fraud detection systems using models like XGBoost to monitor transactions continuously.\n",
    "Data Security: Strengthen data security measures to prevent unauthorized access and tampering.\n",
    "Model Updates: Regularly update the fraud detection model with new data to keep it relevant to emerging fraud patterns.\n",
    "\n",
    "8. Assuming These Actions Have Been Implemented, How Would You Determine if They Work?\n",
    "Ans:\n",
    "Monitoring: Track the performance of the fraud detection system using metrics such as detection rates, false positives, and false negatives.\n",
    "A/B Testing: Compare the performance of the new system with previous systems using A/B testing to assess improvements.\n",
    "Feedback Loop: Continuously gather feedback and refine the system based on real-world performance and emerging fraud trends.\n",
    "\n",
    "'''"
   ]
  }
 ],
 "metadata": {
  "kernelspec": {
   "display_name": "Python 3 (ipykernel)",
   "language": "python",
   "name": "python3"
  },
  "language_info": {
   "codemirror_mode": {
    "name": "ipython",
    "version": 3
   },
   "file_extension": ".py",
   "mimetype": "text/x-python",
   "name": "python",
   "nbconvert_exporter": "python",
   "pygments_lexer": "ipython3",
   "version": "3.11.7"
  }
 },
 "nbformat": 4,
 "nbformat_minor": 5
}
